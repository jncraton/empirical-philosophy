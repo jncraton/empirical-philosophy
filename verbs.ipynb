{
 "cells": [
  {
   "cell_type": "code",
   "execution_count": 5,
   "metadata": {},
   "outputs": [
    {
     "name": "stdout",
     "output_type": "stream",
     "text": [
      "['affect', 'identified', 'is', 'thought', 'acquires', 'plays', 'connects', 'is', 'expresses', 'makes', 'is', 'consider', 'apply', 'mental', 'has', 'possesses', 'seem', 'ties', 'making', 'explain', 'provide', 'blocks', 'formulating', 'making', 'individuate', 'considering', 'evolving', 'formulating']\n",
      "['sorts', 'consequences', 'holism', 'form', 'holism', 'fact', 'distinct', 'holism', 'holism', 'content', 'thesis', 'meaning', 'attitude', 'desire', 'belief', 'content', 'virtue', 'role', 'web', 'attitudes', 'individual', 'relationship', 'content', 'state', 'M', 'sentence', 'P', 'tendency', 'discussion', 'term', 'content', 'expressions', 'states', 'question', 'category', 'mental', 'priority', 'meaning', 'holism', 'philosopher', 'hands', 'language', 'learning', 'description', 'meanings', 'expressions', 'possibility', 'theory', 'meaning', 'contents', 'attitude—given', 'necessity', 'set', 'states—it', 'blocks', 'possibility', 'theory', 'mind']\n"
     ]
    },
    {
     "name": "stderr",
     "output_type": "stream",
     "text": [
      "[nltk_data] Downloading package punkt to\n",
      "[nltk_data]     /Users/williamcotton/nltk_data...\n",
      "[nltk_data]   Package punkt is already up-to-date!\n",
      "[nltk_data] Downloading package averaged_perceptron_tagger to\n",
      "[nltk_data]     /Users/williamcotton/nltk_data...\n",
      "[nltk_data]   Package averaged_perceptron_tagger is already up-to-\n",
      "[nltk_data]       date!\n"
     ]
    }
   ],
   "source": [
    "from nltk.corpus import wordnet as wn\n",
    "from nltk import word_tokenize, pos_tag\n",
    "import nltk\n",
    "\n",
    "nltk.download('punkt')\n",
    "nltk.download('averaged_perceptron_tagger')\n",
    "\n",
    "text = \"These sorts of counterintuitive consequences of semantic holism also affect another form of holism, often identified with but, in fact, distinct from semantic holism: the holism of mental content. This is the thesis that the meaning of a particular propositional attitude (thought, desire, belief) acquires its content by virtue of the role that it plays within the web that connects it to all the other propositional attitudes of an individual. Since there is a very tight relationship between the content of a mental state M and the sentence P, which expresses it and makes it publicly communicable, the tendency in recent discussion is to consider the term \\\"content\\\" to apply indifferently both to linguistic expressions and to mental states, regardless of the extremely controversial question of which category (the mental or the linguistic) has priority over the other and which, instead, possesses only a derived meaning. So, it would seem that semantic holism ties the philosopher's hands. By making it impossible to explain language learning and to provide a unique and consistent description of the meanings of linguistic expressions, it blocks off any possibility of formulating a theory of meaning; and, by making it impossible to individuate the exact contents of any propositional attitude—given the necessity of considering a potentially infinite and continuously evolving set of mental states—it blocks off the possibility of formulating a theory of the mind.\"\n",
    "\n",
    "# list all verbs in the text\n",
    "\n",
    "verbs = [word for (word, pos) in pos_tag(nltk.word_tokenize(text)) if pos.startswith('V')]\n",
    "\n",
    "print(verbs)\n",
    "\n",
    "# list all the nouns in the text\n",
    "\n",
    "nouns = [word for (word, pos) in pos_tag(nltk.word_tokenize(text)) if pos.startswith('N')]\n",
    "\n",
    "print(nouns)"
   ]
  }
 ],
 "metadata": {
  "kernelspec": {
   "display_name": "base",
   "language": "python",
   "name": "python3"
  },
  "language_info": {
   "codemirror_mode": {
    "name": "ipython",
    "version": 3
   },
   "file_extension": ".py",
   "mimetype": "text/x-python",
   "name": "python",
   "nbconvert_exporter": "python",
   "pygments_lexer": "ipython3",
   "version": "3.9.15"
  },
  "orig_nbformat": 4,
  "vscode": {
   "interpreter": {
    "hash": "6367e1ecf6751beeebafdd7f4d54bcd96c885d497605ba2ccf346ecb1aaae8f2"
   }
  }
 },
 "nbformat": 4,
 "nbformat_minor": 2
}
